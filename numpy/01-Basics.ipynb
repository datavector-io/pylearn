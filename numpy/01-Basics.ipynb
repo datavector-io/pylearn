{
 "cells": [
  {
   "cell_type": "markdown",
   "id": "7f419220",
   "metadata": {},
   "source": [
    "# NumPy Basics"
   ]
  },
  {
   "cell_type": "code",
   "execution_count": 1,
   "id": "0f2d7f5a",
   "metadata": {},
   "outputs": [],
   "source": [
    "import numpy as np"
   ]
  },
  {
   "cell_type": "markdown",
   "id": "1123e011",
   "metadata": {},
   "source": [
    "## 1-D array"
   ]
  },
  {
   "cell_type": "code",
   "execution_count": 2,
   "id": "9669cd86",
   "metadata": {},
   "outputs": [
    {
     "name": "stdout",
     "output_type": "stream",
     "text": [
      "[  1   3   5   7   9 111]\n",
      "[11 13 51 71 92 98]\n",
      "<class 'numpy.ndarray'>\n"
     ]
    }
   ],
   "source": [
    "arr_from_list = np.array([1,3,5,7,9,111])\n",
    "arr_from_tuple = np.array((11,13,51,71,92,98))\n",
    "\n",
    "print(arr_from_list)\n",
    "print(arr_from_tuple)\n",
    "print(type(arr_from_list))"
   ]
  },
  {
   "cell_type": "markdown",
   "id": "63b3c4b9",
   "metadata": {},
   "source": [
    "## 2-D Array, & Array properties"
   ]
  },
  {
   "cell_type": "code",
   "execution_count": 3,
   "id": "9d8081a5",
   "metadata": {},
   "outputs": [
    {
     "name": "stdout",
     "output_type": "stream",
     "text": [
      "[[ 1  2]\n",
      " [ 3  4]\n",
      " [ 5  6]\n",
      " [20 30]]\n",
      "data.dtype= int64\n",
      "data.size= 8\n",
      "data.itemsize= 8\n",
      "data.nbytes= 64\n",
      "data.shape= (4, 2)\n",
      "data.shape type <class 'tuple'>\n",
      "data.shape[0]= 4\n",
      "data.ndim= 2\n",
      "data.strides= (16, 8)\n"
     ]
    }
   ],
   "source": [
    "data = np.array([[1, 2], [3, 4], [5, 6], [20,30]])\n",
    "print(data)\n",
    "\n",
    "print('data.dtype=', data.dtype)\n",
    "print('data.size=', data.size)\n",
    "print('data.itemsize=', data.itemsize)\n",
    "\n",
    "print('data.nbytes=', data.nbytes)\n",
    "\n",
    "print('data.shape=', data.shape)\n",
    "print('data.shape type', type(data.shape)) ##tuple\n",
    "print('data.shape[0]=', data.shape[0])\n",
    "\n",
    "print('data.ndim=', data.ndim)\n",
    "\n",
    "print('data.strides=', data.strides)"
   ]
  },
  {
   "cell_type": "markdown",
   "id": "280cf2b7",
   "metadata": {},
   "source": [
    "### Creation with data type"
   ]
  },
  {
   "cell_type": "code",
   "execution_count": 4,
   "id": "a444f5d6",
   "metadata": {},
   "outputs": [
    {
     "data": {
      "text/plain": [
       "array([ 2,  3,  4,  5,  6,  7,  8,  9, 10, 11, 12, 13, 14, 15, 16, 17, 18,\n",
       "       19], dtype=int8)"
      ]
     },
     "execution_count": 4,
     "metadata": {},
     "output_type": "execute_result"
    }
   ],
   "source": [
    "np.arange(2,20, dtype=np.int8)"
   ]
  },
  {
   "cell_type": "markdown",
   "id": "bd4a24fd",
   "metadata": {},
   "source": [
    "## 3-D Array & Access n-dim array item"
   ]
  },
  {
   "cell_type": "code",
   "execution_count": 5,
   "id": "de9c6ba5",
   "metadata": {
    "scrolled": true
   },
   "outputs": [
    {
     "name": "stdout",
     "output_type": "stream",
     "text": [
      "[[[1 2 3]\n",
      "  [4 5 6]]\n",
      "\n",
      " [[1 2 3]\n",
      "  [4 5 6]]]\n",
      "<class 'numpy.ndarray'>\n",
      "3\n",
      "(2, 2, 3)\n",
      "3\n"
     ]
    }
   ],
   "source": [
    "a = np.array([[[1,2,3],[4,5,6]], [[1,2,3],[4,5,6]]] )\n",
    "\n",
    "print(a)\n",
    "print(type(a))\n",
    "print(a.ndim) # how many subscripts needed to access this array \n",
    "print(a.shape)\n",
    "\n",
    "\n",
    "print(a[1,0,2]) #access a item in array"
   ]
  },
  {
   "cell_type": "markdown",
   "id": "f484669b",
   "metadata": {},
   "source": [
    "## np arange, reshape, linspace"
   ]
  },
  {
   "cell_type": "code",
   "execution_count": 6,
   "id": "9f438f21",
   "metadata": {},
   "outputs": [
    {
     "name": "stdout",
     "output_type": "stream",
     "text": [
      "[ 0  1  2  3  4  5  6  7  8  9 10 11 12 13 14 15 16 17 18 19 20 21 22 23\n",
      " 24 25 26 27 28 29 30 31 32 33 34 35 36 37 38 39 40 41 42 43 44 45 46 47\n",
      " 48 49]\n",
      "\n",
      "*****\n",
      "\n",
      "[20 23 26 29 32 35 38 41 44 47 50 53 56 59 62 65 68 71 74 77 80 83 86 89\n",
      " 92 95 98]\n",
      "\n",
      "*****\n",
      "\n",
      "[[[ 0  1  2  3  4]\n",
      "  [ 5  6  7  8  9]]\n",
      "\n",
      " [[10 11 12 13 14]\n",
      "  [15 16 17 18 19]]\n",
      "\n",
      " [[20 21 22 23 24]\n",
      "  [25 26 27 28 29]]\n",
      "\n",
      " [[30 31 32 33 34]\n",
      "  [35 36 37 38 39]]\n",
      "\n",
      " [[40 41 42 43 44]\n",
      "  [45 46 47 48 49]]]\n"
     ]
    }
   ],
   "source": [
    "x = np.arange(50) # 0 to 49\n",
    "print(x)\n",
    "print(\"\\n*****\\n\")\n",
    "\n",
    "x = np.arange(20,100,3) # start stop and steps\n",
    "print(x)\n",
    "print(\"\\n*****\\n\")\n",
    "\n",
    "x = np.arange(50).reshape(5,2,5) # NOTE: shape passed as plain arguments\n",
    "print(x)"
   ]
  },
  {
   "cell_type": "code",
   "execution_count": 7,
   "id": "1e8af890",
   "metadata": {},
   "outputs": [
    {
     "data": {
      "text/plain": [
       "array([10.        , 10.71428571, 11.42857143, 12.14285714, 12.85714286,\n",
       "       13.57142857, 14.28571429, 15.        , 15.71428571, 16.42857143,\n",
       "       17.14285714, 17.85714286, 18.57142857, 19.28571429, 20.        ])"
      ]
     },
     "execution_count": 7,
     "metadata": {},
     "output_type": "execute_result"
    }
   ],
   "source": [
    "# start at 10 stop at 20 included and get 15 evenly spaced points between with both included\n",
    "np.linspace(10, 20, 15)"
   ]
  },
  {
   "cell_type": "markdown",
   "id": "613f9e11",
   "metadata": {},
   "source": [
    "# zeroes, ones, empty array, identity matrix"
   ]
  },
  {
   "cell_type": "code",
   "execution_count": 8,
   "id": "dbac0c73",
   "metadata": {},
   "outputs": [
    {
     "name": "stdout",
     "output_type": "stream",
     "text": [
      "[0. 0. 0.]\n"
     ]
    },
    {
     "data": {
      "text/plain": [
       "array([[0., 0.],\n",
       "       [0., 0.],\n",
       "       [0., 0.],\n",
       "       [0., 0.]])"
      ]
     },
     "execution_count": 8,
     "metadata": {},
     "output_type": "execute_result"
    }
   ],
   "source": [
    "z_m = np.zeros(3) # one dim zero matrix\n",
    "print(z_m)\n",
    "\n",
    "zero_matrix = np.zeros((4,2)) # NOTE: shape passed as list or tuple for dim > 1\n",
    "zero_matrix"
   ]
  },
  {
   "cell_type": "code",
   "execution_count": 9,
   "id": "ba7f0623",
   "metadata": {},
   "outputs": [
    {
     "data": {
      "text/plain": [
       "array([[0, 0, 0],\n",
       "       [0, 0, 0]], dtype=int8)"
      ]
     },
     "execution_count": 9,
     "metadata": {},
     "output_type": "execute_result"
    }
   ],
   "source": [
    "np.zeros((2,3), dtype=np.int8)"
   ]
  },
  {
   "cell_type": "code",
   "execution_count": 10,
   "id": "e4b9a100",
   "metadata": {},
   "outputs": [
    {
     "data": {
      "text/plain": [
       "array([[1., 1., 1.],\n",
       "       [1., 1., 1.],\n",
       "       [1., 1., 1.],\n",
       "       [1., 1., 1.],\n",
       "       [1., 1., 1.]])"
      ]
     },
     "execution_count": 10,
     "metadata": {},
     "output_type": "execute_result"
    }
   ],
   "source": [
    "one_matrix = np.ones([5,3])\n",
    "one_matrix"
   ]
  },
  {
   "cell_type": "code",
   "execution_count": 11,
   "id": "d5dff4f1",
   "metadata": {},
   "outputs": [
    {
     "data": {
      "text/plain": [
       "array([[4.67938844e-310, 0.00000000e+000, 0.00000000e+000],\n",
       "       [0.00000000e+000, 0.00000000e+000, 0.00000000e+000]])"
      ]
     },
     "execution_count": 11,
     "metadata": {},
     "output_type": "execute_result"
    }
   ],
   "source": [
    "empty_array = np.empty([2,3])\n",
    "empty_array"
   ]
  },
  {
   "cell_type": "code",
   "execution_count": 12,
   "id": "0a87bf83",
   "metadata": {},
   "outputs": [
    {
     "data": {
      "text/plain": [
       "array([[1., 0., 0.],\n",
       "       [0., 1., 0.],\n",
       "       [0., 0., 1.]])"
      ]
     },
     "execution_count": 12,
     "metadata": {},
     "output_type": "execute_result"
    }
   ],
   "source": [
    "identity_matrix = np.eye(3) #takes only one arg since identity matrix is a square matrix of n x n\n",
    "identity_matrix"
   ]
  }
 ],
 "metadata": {
  "kernelspec": {
   "display_name": "Python 3",
   "language": "python",
   "name": "python3"
  },
  "language_info": {
   "codemirror_mode": {
    "name": "ipython",
    "version": 3
   },
   "file_extension": ".py",
   "mimetype": "text/x-python",
   "name": "python",
   "nbconvert_exporter": "python",
   "pygments_lexer": "ipython3",
   "version": "3.8.8"
  }
 },
 "nbformat": 4,
 "nbformat_minor": 5
}
