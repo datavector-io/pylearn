{
 "cells": [
  {
   "cell_type": "markdown",
   "id": "ad0c3824",
   "metadata": {},
   "source": [
    "# More numpy Visualization"
   ]
  },
  {
   "cell_type": "code",
   "execution_count": 3,
   "id": "3bd5e1f2",
   "metadata": {},
   "outputs": [],
   "source": [
    "import numpy as np\n",
    "import matplotlib.pyplot as plt"
   ]
  },
  {
   "cell_type": "code",
   "execution_count": 18,
   "id": "a8676a04",
   "metadata": {},
   "outputs": [
    {
     "data": {
      "text/plain": [
       "(array([100.,  86.,  86., 112.,  94.,  99., 120., 111.,  91., 101.]),\n",
       " array([0.0012844 , 0.10107594, 0.20086748, 0.30065902, 0.40045056,\n",
       "        0.5002421 , 0.60003365, 0.69982519, 0.79961673, 0.89940827,\n",
       "        0.99919981]),\n",
       " <BarContainer object of 10 artists>)"
      ]
     },
     "execution_count": 18,
     "metadata": {},
     "output_type": "execute_result"
    },
    {
     "data": {
      "image/png": "[encoded data removed]",
      "text/plain": [
       "<Figure size 432x288 with 1 Axes>"
      ]
     },
     "metadata": {
      "needs_background": "light"
     },
     "output_type": "display_data"
    }
   ],
   "source": [
    "a = np.random.rand(1000)\n",
    "plt.hist(a)"
   ]
  },
  {
   "cell_type": "code",
   "execution_count": 21,
   "id": "44841ed4",
   "metadata": {},
   "outputs": [
    {
     "data": {
      "text/plain": [
       "(array([ 6., 12.,  4., 12., 13., 14.,  4., 18.,  9.,  8.,  9., 17., 11.,\n",
       "         8.,  7., 12.,  6.,  5.,  4.,  7.,  4., 11., 10., 12., 10.,  6.,\n",
       "        10.,  8.,  6.,  9.,  7., 20.,  6., 13., 13., 11.,  6., 12., 14.,\n",
       "        10.,  6., 12., 10., 10., 11., 10.,  4.,  8., 12., 11., 12.,  6.,\n",
       "        10., 11., 12., 11.,  7., 14.,  6., 10.,  7., 16.,  7.,  8.,  7.,\n",
       "        16., 15., 12., 22., 10.,  9., 12., 19., 12., 13., 11.,  8., 12.,\n",
       "         7.,  8.,  9.,  5.,  9.,  8., 15., 12.,  9., 10.,  7.,  7.,  8.,\n",
       "         8.,  9., 12., 10.,  9., 12., 11., 10., 12.]),\n",
       " array([0.0012844 , 0.01126355, 0.0212427 , 0.03122186, 0.04120101,\n",
       "        0.05118017, 0.06115932, 0.07113848, 0.08111763, 0.09109678,\n",
       "        0.10107594, 0.11105509, 0.12103425, 0.1310134 , 0.14099255,\n",
       "        0.15097171, 0.16095086, 0.17093002, 0.18090917, 0.19088832,\n",
       "        0.20086748, 0.21084663, 0.22082579, 0.23080494, 0.2407841 ,\n",
       "        0.25076325, 0.2607424 , 0.27072156, 0.28070071, 0.29067987,\n",
       "        0.30065902, 0.31063817, 0.32061733, 0.33059648, 0.34057564,\n",
       "        0.35055479, 0.36053395, 0.3705131 , 0.38049225, 0.39047141,\n",
       "        0.40045056, 0.41042972, 0.42040887, 0.43038802, 0.44036718,\n",
       "        0.45034633, 0.46032549, 0.47030464, 0.4802838 , 0.49026295,\n",
       "        0.5002421 , 0.51022126, 0.52020041, 0.53017957, 0.54015872,\n",
       "        0.55013787, 0.56011703, 0.57009618, 0.58007534, 0.59005449,\n",
       "        0.60003365, 0.6100128 , 0.61999195, 0.62997111, 0.63995026,\n",
       "        0.64992942, 0.65990857, 0.66988772, 0.67986688, 0.68984603,\n",
       "        0.69982519, 0.70980434, 0.71978349, 0.72976265, 0.7397418 ,\n",
       "        0.74972096, 0.75970011, 0.76967927, 0.77965842, 0.78963757,\n",
       "        0.79961673, 0.80959588, 0.81957504, 0.82955419, 0.83953334,\n",
       "        0.8495125 , 0.85949165, 0.86947081, 0.87944996, 0.88942912,\n",
       "        0.89940827, 0.90938742, 0.91936658, 0.92934573, 0.93932489,\n",
       "        0.94930404, 0.95928319, 0.96926235, 0.9792415 , 0.98922066,\n",
       "        0.99919981]),\n",
       " <BarContainer object of 100 artists>)"
      ]
     },
     "execution_count": 21,
     "metadata": {},
     "output_type": "execute_result"
    },
    {
     "data": {
      "image/png": "[encoded data removed]",
      "text/plain": [
       "<Figure size 432x288 with 1 Axes>"
      ]
     },
     "metadata": {
      "needs_background": "light"
     },
     "output_type": "display_data"
    }
   ],
   "source": [
    "plt.hist(a, bins=100)"
   ]
  },
  {
   "cell_type": "code",
   "execution_count": 25,
   "id": "aee8eece",
   "metadata": {},
   "outputs": [
    {
     "data": {
      "text/plain": [
       "(array([ 1.,  0.,  1.,  0.,  0.,  2.,  0.,  0.,  1.,  3.,  2.,  1.,  0.,\n",
       "         1.,  4.,  1.,  6.,  2.,  7., 10.,  7.,  7.,  6.,  5., 11.,  8.,\n",
       "        10., 16., 20., 21., 22., 24., 20., 18., 19., 25., 25., 27., 28.,\n",
       "        34., 17., 29., 33., 28., 27., 28., 27., 27., 17., 20., 28., 26.,\n",
       "        23., 24., 21., 24., 13., 16., 17., 21., 23., 13.,  8., 10., 11.,\n",
       "         7.,  5.,  5.,  3.,  0.,  6.,  5.,  7.,  2.,  4.,  3.,  4.,  2.,\n",
       "         3.,  5.,  3.,  1.,  2.,  0.,  2.,  0.,  3.,  0.,  1.,  0.,  0.,\n",
       "         0.,  0.,  0.,  0.,  0.,  0.,  0.,  0.,  1.]),\n",
       " array([-3.04638313, -2.97760384, -2.90882455, -2.84004527, -2.77126598,\n",
       "        -2.70248669, -2.6337074 , -2.56492812, -2.49614883, -2.42736954,\n",
       "        -2.35859026, -2.28981097, -2.22103168, -2.15225239, -2.08347311,\n",
       "        -2.01469382, -1.94591453, -1.87713525, -1.80835596, -1.73957667,\n",
       "        -1.67079739, -1.6020181 , -1.53323881, -1.46445952, -1.39568024,\n",
       "        -1.32690095, -1.25812166, -1.18934238, -1.12056309, -1.0517838 ,\n",
       "        -0.98300451, -0.91422523, -0.84544594, -0.77666665, -0.70788737,\n",
       "        -0.63910808, -0.57032879, -0.50154951, -0.43277022, -0.36399093,\n",
       "        -0.29521164, -0.22643236, -0.15765307, -0.08887378, -0.0200945 ,\n",
       "         0.04868479,  0.11746408,  0.18624336,  0.25502265,  0.32380194,\n",
       "         0.39258123,  0.46136051,  0.5301398 ,  0.59891909,  0.66769837,\n",
       "         0.73647766,  0.80525695,  0.87403624,  0.94281552,  1.01159481,\n",
       "         1.0803741 ,  1.14915338,  1.21793267,  1.28671196,  1.35549124,\n",
       "         1.42427053,  1.49304982,  1.56182911,  1.63060839,  1.69938768,\n",
       "         1.76816697,  1.83694625,  1.90572554,  1.97450483,  2.04328411,\n",
       "         2.1120634 ,  2.18084269,  2.24962198,  2.31840126,  2.38718055,\n",
       "         2.45595984,  2.52473912,  2.59351841,  2.6622977 ,  2.73107699,\n",
       "         2.79985627,  2.86863556,  2.93741485,  3.00619413,  3.07497342,\n",
       "         3.14375271,  3.21253199,  3.28131128,  3.35009057,  3.41886986,\n",
       "         3.48764914,  3.55642843,  3.62520772,  3.693987  ,  3.76276629,\n",
       "         3.83154558]),\n",
       " <BarContainer object of 100 artists>)"
      ]
     },
     "execution_count": 25,
     "metadata": {},
     "output_type": "execute_result"
    },
    {
     "data": {
      "image/png": "[encoded data removed]",
      "text/plain": [
       "<Figure size 432x288 with 1 Axes>"
      ]
     },
     "metadata": {
      "needs_background": "light"
     },
     "output_type": "display_data"
    }
   ],
   "source": [
    "#gaussian random numbers\n",
    "\n",
    "a = np.random.randn(1000)\n",
    "plt.hist(a, bins=100)"
   ]
  }
 ],
 "metadata": {
  "kernelspec": {
   "display_name": "Python 3",
   "language": "python",
   "name": "python3"
  },
  "language_info": {
   "codemirror_mode": {
    "name": "ipython",
    "version": 3
   },
   "file_extension": ".py",
   "mimetype": "text/x-python",
   "name": "python",
   "nbconvert_exporter": "python",
   "pygments_lexer": "ipython3",
   "version": "3.8.8"
  }
 },
 "nbformat": 4,
 "nbformat_minor": 5
}
