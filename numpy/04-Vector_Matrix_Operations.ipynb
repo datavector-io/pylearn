{
 "cells": [
  {
   "cell_type": "markdown",
   "id": "cf50e345",
   "metadata": {},
   "source": [
    "# Vector and Matrix operations"
   ]
  },
  {
   "cell_type": "code",
   "execution_count": 3,
   "id": "d13f21fa",
   "metadata": {},
   "outputs": [],
   "source": [
    "import numpy as np"
   ]
  },
  {
   "cell_type": "markdown",
   "id": "4be4fd1e",
   "metadata": {},
   "source": [
    "## Scalar Multiplication"
   ]
  },
  {
   "cell_type": "code",
   "execution_count": 12,
   "id": "a560eda9",
   "metadata": {},
   "outputs": [
    {
     "data": {
      "text/plain": [
       "array([[0.4157608 , 0.34803992, 0.35474137, 0.58147941],\n",
       "       [0.23432469, 0.97113952, 0.25795855, 0.87100879],\n",
       "       [0.61946584, 0.84411447, 0.74181319, 0.38142814]])"
      ]
     },
     "execution_count": 12,
     "metadata": {},
     "output_type": "execute_result"
    }
   ],
   "source": [
    "arr= np.random.rand(3,4)\n",
    "arr"
   ]
  },
  {
   "cell_type": "code",
   "execution_count": 13,
   "id": "c4008234",
   "metadata": {},
   "outputs": [
    {
     "data": {
      "text/plain": [
       "array([[41.57607958, 34.80399152, 35.47413706, 58.14794065],\n",
       "       [23.43246941, 97.11395185, 25.79585453, 87.10087854],\n",
       "       [61.94658412, 84.4114473 , 74.18131923, 38.14281383]])"
      ]
     },
     "execution_count": 13,
     "metadata": {},
     "output_type": "execute_result"
    }
   ],
   "source": [
    "arr = arr * 100\n",
    "arr"
   ]
  },
  {
   "cell_type": "code",
   "execution_count": 29,
   "id": "e7fd4d2b",
   "metadata": {},
   "outputs": [
    {
     "data": {
      "text/plain": [
       "array([[  9,  49,  16,   1],\n",
       "       [ 64, 144, 121,  81],\n",
       "       [ 36,  25,   4, 100]])"
      ]
     },
     "execution_count": 29,
     "metadata": {},
     "output_type": "execute_result"
    }
   ],
   "source": [
    "arr = arr **2\n",
    "arr"
   ]
  },
  {
   "cell_type": "markdown",
   "id": "c155cc32",
   "metadata": {},
   "source": [
    "## Scalar addition"
   ]
  },
  {
   "cell_type": "code",
   "execution_count": 28,
   "id": "348dd7d1",
   "metadata": {},
   "outputs": [
    {
     "name": "stdout",
     "output_type": "stream",
     "text": [
      "[[ 3  7  4  1]\n",
      " [ 8 12 11  9]\n",
      " [ 6  5  2 10]]\n"
     ]
    },
    {
     "data": {
      "text/plain": [
       "array([[13, 17, 14, 11],\n",
       "       [18, 22, 21, 19],\n",
       "       [16, 15, 12, 20]])"
      ]
     },
     "execution_count": 28,
     "metadata": {},
     "output_type": "execute_result"
    }
   ],
   "source": [
    "arr= np.random.permutation(np.arange(1,13)).reshape(3,4)\n",
    "print(arr)\n",
    "\n",
    "arr + 10"
   ]
  },
  {
   "cell_type": "markdown",
   "id": "5d8a5f2a",
   "metadata": {},
   "source": [
    "## Vector/Matrix Addition"
   ]
  },
  {
   "cell_type": "code",
   "execution_count": 26,
   "id": "27c0152b",
   "metadata": {},
   "outputs": [
    {
     "name": "stdout",
     "output_type": "stream",
     "text": [
      "[[ 1  8 10  3]\n",
      " [ 9  7  6  4]\n",
      " [11  5  2 12]]\n"
     ]
    },
    {
     "data": {
      "text/plain": [
       "array([[ 2, 16, 20,  6],\n",
       "       [18, 14, 12,  8],\n",
       "       [22, 10,  4, 24]])"
      ]
     },
     "execution_count": 26,
     "metadata": {},
     "output_type": "execute_result"
    }
   ],
   "source": [
    "arr = np.random.permutation(np.arange(1,13)).reshape(3,4)\n",
    "print(arr)\n",
    "\n",
    "arr_new = arr + arr\n",
    "arr_new"
   ]
  },
  {
   "cell_type": "code",
   "execution_count": 1,
   "id": "f1198a1b",
   "metadata": {},
   "outputs": [
    {
     "ename": "NameError",
     "evalue": "name 'np' is not defined",
     "output_type": "error",
     "traceback": [
      "\u001b[0;31m---------------------------------------------------------------------------\u001b[0m",
      "\u001b[0;31mNameError\u001b[0m                                 Traceback (most recent call last)",
      "\u001b[0;32m<ipython-input-1-3ad769b13660>\u001b[0m in \u001b[0;36m<module>\u001b[0;34m\u001b[0m\n\u001b[0;32m----> 1\u001b[0;31m \u001b[0mA\u001b[0m \u001b[0;34m=\u001b[0m \u001b[0mnp\u001b[0m\u001b[0;34m.\u001b[0m\u001b[0marange\u001b[0m\u001b[0;34m(\u001b[0m\u001b[0;36m1\u001b[0m\u001b[0;34m,\u001b[0m \u001b[0;36m7\u001b[0m\u001b[0;34m)\u001b[0m\u001b[0;34m.\u001b[0m\u001b[0mreshape\u001b[0m\u001b[0;34m(\u001b[0m\u001b[0;36m2\u001b[0m\u001b[0;34m,\u001b[0m\u001b[0;36m3\u001b[0m\u001b[0;34m)\u001b[0m\u001b[0;34m\u001b[0m\u001b[0;34m\u001b[0m\u001b[0m\n\u001b[0m\u001b[1;32m      2\u001b[0m \u001b[0mprint\u001b[0m\u001b[0;34m(\u001b[0m\u001b[0mA\u001b[0m\u001b[0;34m)\u001b[0m\u001b[0;34m\u001b[0m\u001b[0;34m\u001b[0m\u001b[0m\n\u001b[1;32m      3\u001b[0m \u001b[0;34m\u001b[0m\u001b[0m\n\u001b[1;32m      4\u001b[0m \u001b[0mA\u001b[0m\u001b[0;34m+\u001b[0m\u001b[0mnp\u001b[0m\u001b[0;34m.\u001b[0m\u001b[0marange\u001b[0m\u001b[0;34m(\u001b[0m\u001b[0;36m2\u001b[0m\u001b[0;34m)\u001b[0m\u001b[0;34m.\u001b[0m\u001b[0mreshape\u001b[0m\u001b[0;34m(\u001b[0m\u001b[0;36m2\u001b[0m\u001b[0;34m,\u001b[0m\u001b[0;36m1\u001b[0m\u001b[0;34m)\u001b[0m\u001b[0;34m\u001b[0m\u001b[0;34m\u001b[0m\u001b[0m\n",
      "\u001b[0;31mNameError\u001b[0m: name 'np' is not defined"
     ]
    }
   ],
   "source": [
    "A = np.arange(1, 7).reshape(2,3)\n",
    "print(A)\n",
    "\n",
    "A+np.arange(2).reshape(2,1)"
   ]
  },
  {
   "cell_type": "markdown",
   "id": "676b2e4a",
   "metadata": {},
   "source": [
    "## Matrix multiplication of corresponding elements only"
   ]
  },
  {
   "cell_type": "code",
   "execution_count": 38,
   "id": "219af6e6",
   "metadata": {},
   "outputs": [
    {
     "data": {
      "text/plain": [
       "array([[  0,  13,  28],\n",
       "       [ 45,  64,  85],\n",
       "       [108, 133, 160]])"
      ]
     },
     "execution_count": 38,
     "metadata": {},
     "output_type": "execute_result"
    }
   ],
   "source": [
    "arr1 = np.arange(0,9).reshape(3,3)\n",
    "arr2 = np.arange(12,21).reshape(3,3)\n",
    "arr3 = arr1 * arr2\n",
    "arr3"
   ]
  },
  {
   "cell_type": "code",
   "execution_count": 6,
   "id": "4ee869d8",
   "metadata": {},
   "outputs": [
    {
     "data": {
      "text/plain": [
       "array([[                0,                 1,              1024,\n",
       "                   177147,          16777216],\n",
       "       [       1220703125,       78364164096,     4747561509943,\n",
       "          281474976710656, 16677181699666569]])"
      ]
     },
     "execution_count": 6,
     "metadata": {},
     "output_type": "execute_result"
    }
   ],
   "source": [
    "A = np.arange(0,10).reshape(2,5)\n",
    "B = np.arange(8,18).reshape(2,5)\n",
    "C = A**B\n",
    "C"
   ]
  },
  {
   "cell_type": "markdown",
   "id": "7cd347f7",
   "metadata": {},
   "source": [
    "## Matrix Division"
   ]
  },
  {
   "cell_type": "code",
   "execution_count": 40,
   "id": "d49e454a",
   "metadata": {},
   "outputs": [
    {
     "name": "stderr",
     "output_type": "stream",
     "text": [
      "<ipython-input-40-4186f924b6f3>:1: RuntimeWarning: divide by zero encountered in true_divide\n",
      "  arr4 = 1/arr3 #Note division by zero\n"
     ]
    },
    {
     "data": {
      "text/plain": [
       "array([[       inf, 0.07692308, 0.03571429],\n",
       "       [0.02222222, 0.015625  , 0.01176471],\n",
       "       [0.00925926, 0.0075188 , 0.00625   ]])"
      ]
     },
     "execution_count": 40,
     "metadata": {},
     "output_type": "execute_result"
    }
   ],
   "source": [
    "arr4 = 1/arr3 #Note division by zero\n",
    "arr4"
   ]
  },
  {
   "cell_type": "markdown",
   "id": "848fb05c",
   "metadata": {},
   "source": [
    "## Sorting"
   ]
  },
  {
   "cell_type": "code",
   "execution_count": 18,
   "id": "e7b97538",
   "metadata": {},
   "outputs": [
    {
     "data": {
      "text/plain": [
       "array([[23., 35., 26., 38.],\n",
       "       [42., 84., 35., 58.],\n",
       "       [62., 97., 74., 87.]])"
      ]
     },
     "execution_count": 18,
     "metadata": {},
     "output_type": "execute_result"
    }
   ],
   "source": [
    "arr.sort(axis=0)\n",
    "arr"
   ]
  },
  {
   "cell_type": "markdown",
   "id": "67c6c3a4",
   "metadata": {},
   "source": [
    "## Universal Functions"
   ]
  },
  {
   "cell_type": "code",
   "execution_count": null,
   "id": "2cfa6e58",
   "metadata": {},
   "outputs": [],
   "source": [
    "arr = np.round(arr)\n",
    "arr"
   ]
  },
  {
   "cell_type": "code",
   "execution_count": 30,
   "id": "e36959a9",
   "metadata": {},
   "outputs": [
    {
     "data": {
      "text/plain": [
       "array([[ 3.,  7.,  4.,  1.],\n",
       "       [ 8., 12., 11.,  9.],\n",
       "       [ 6.,  5.,  2., 10.]])"
      ]
     },
     "execution_count": 30,
     "metadata": {},
     "output_type": "execute_result"
    }
   ],
   "source": [
    "arr = np.sqrt(arr)\n",
    "arr"
   ]
  },
  {
   "cell_type": "code",
   "execution_count": 31,
   "id": "ccbdbfd2",
   "metadata": {},
   "outputs": [
    {
     "data": {
      "text/plain": [
       "12.0"
      ]
     },
     "execution_count": 31,
     "metadata": {},
     "output_type": "execute_result"
    }
   ],
   "source": [
    "np.max(arr) # same as arr.max()"
   ]
  },
  {
   "cell_type": "code",
   "execution_count": 32,
   "id": "cba745f6",
   "metadata": {},
   "outputs": [
    {
     "data": {
      "text/plain": [
       "array([[2.00855369e+01, 1.09663316e+03, 5.45981500e+01, 2.71828183e+00],\n",
       "       [2.98095799e+03, 1.62754791e+05, 5.98741417e+04, 8.10308393e+03],\n",
       "       [4.03428793e+02, 1.48413159e+02, 7.38905610e+00, 2.20264658e+04]])"
      ]
     },
     "execution_count": 32,
     "metadata": {},
     "output_type": "execute_result"
    }
   ],
   "source": [
    "#np.exp(arr)"
   ]
  },
  {
   "cell_type": "code",
   "execution_count": 36,
   "id": "ff2993ac",
   "metadata": {},
   "outputs": [
    {
     "data": {
      "text/plain": [
       "array([[ 0.14112001,  0.6569866 , -0.7568025 ,  0.84147098],\n",
       "       [ 0.98935825, -0.53657292, -0.99999021,  0.41211849],\n",
       "       [-0.2794155 , -0.95892427,  0.90929743, -0.54402111]])"
      ]
     },
     "execution_count": 36,
     "metadata": {},
     "output_type": "execute_result"
    }
   ],
   "source": [
    "np.sin(arr)"
   ]
  },
  {
   "cell_type": "code",
   "execution_count": 37,
   "id": "90acb631",
   "metadata": {},
   "outputs": [
    {
     "data": {
      "text/plain": [
       "array([[1.09861229, 1.94591015, 1.38629436, 0.        ],\n",
       "       [2.07944154, 2.48490665, 2.39789527, 2.19722458],\n",
       "       [1.79175947, 1.60943791, 0.69314718, 2.30258509]])"
      ]
     },
     "execution_count": 37,
     "metadata": {},
     "output_type": "execute_result"
    }
   ],
   "source": [
    "np.log(arr)"
   ]
  },
  {
   "cell_type": "markdown",
   "id": "bf9eade0",
   "metadata": {},
   "source": [
    "### Binary functions"
   ]
  },
  {
   "cell_type": "code",
   "execution_count": 51,
   "id": "1226a041",
   "metadata": {},
   "outputs": [
    {
     "name": "stdout",
     "output_type": "stream",
     "text": [
      "[ 0.29753288 -1.38283298 -0.53489753 -1.66905272 -1.57153333  0.73583771\n",
      " -1.59696065 -1.42832441  0.21389511  0.03486821]\n",
      "[ 1.71507597  0.23686     0.92421494 -0.05170157  1.38841015 -0.32120813\n",
      " -0.83929183 -0.29721859 -0.40421858 -0.12019839]\n"
     ]
    },
    {
     "data": {
      "text/plain": [
       "array([ 2.01260885, -1.14597297,  0.38931742, -1.72075429, -0.18312318,\n",
       "        0.41462958, -2.43625248, -1.725543  , -0.19032347, -0.08533018])"
      ]
     },
     "execution_count": 51,
     "metadata": {},
     "output_type": "execute_result"
    }
   ],
   "source": [
    "A = np.random.randn(10)\n",
    "print(A)\n",
    "\n",
    "B = np.random.randn(10)\n",
    "print(B)\n",
    "\n",
    "np.add(A,B)"
   ]
  },
  {
   "cell_type": "code",
   "execution_count": 52,
   "id": "3a58c2b7",
   "metadata": {},
   "outputs": [
    {
     "data": {
      "text/plain": [
       "array([ 1.71507597,  0.23686   ,  0.92421494, -0.05170157,  1.38841015,\n",
       "        0.73583771, -0.83929183, -0.29721859,  0.21389511,  0.03486821])"
      ]
     },
     "execution_count": 52,
     "metadata": {},
     "output_type": "execute_result"
    }
   ],
   "source": [
    "np.maximum(A,B)"
   ]
  },
  {
   "cell_type": "markdown",
   "id": "f8613019",
   "metadata": {},
   "source": [
    "## Transpose"
   ]
  },
  {
   "cell_type": "code",
   "execution_count": 50,
   "id": "d985c57e",
   "metadata": {},
   "outputs": [
    {
     "data": {
      "text/plain": [
       "array([[ 3.,  8.,  6.],\n",
       "       [ 7., 12.,  5.],\n",
       "       [ 4., 11.,  2.],\n",
       "       [ 1.,  9., 10.]])"
      ]
     },
     "execution_count": 50,
     "metadata": {},
     "output_type": "execute_result"
    }
   ],
   "source": [
    "arr.T"
   ]
  },
  {
   "cell_type": "code",
   "execution_count": 47,
   "id": "37ac2145",
   "metadata": {},
   "outputs": [
    {
     "data": {
      "text/plain": [
       "array([[[ 0,  1,  2],\n",
       "        [ 3,  4,  5],\n",
       "        [ 6,  7,  8],\n",
       "        [ 9, 10, 11]],\n",
       "\n",
       "       [[12, 13, 14],\n",
       "        [15, 16, 17],\n",
       "        [18, 19, 20],\n",
       "        [21, 22, 23]],\n",
       "\n",
       "       [[24, 25, 26],\n",
       "        [27, 28, 29],\n",
       "        [30, 31, 32],\n",
       "        [33, 34, 35]],\n",
       "\n",
       "       [[36, 37, 38],\n",
       "        [39, 40, 41],\n",
       "        [42, 43, 44],\n",
       "        [45, 46, 47]],\n",
       "\n",
       "       [[48, 49, 50],\n",
       "        [51, 52, 53],\n",
       "        [54, 55, 56],\n",
       "        [57, 58, 59]]])"
      ]
     },
     "execution_count": 47,
     "metadata": {},
     "output_type": "execute_result"
    }
   ],
   "source": [
    "arr_3d = np.arange(60).reshape(5,4,3)\n",
    "arr_3d"
   ]
  },
  {
   "cell_type": "code",
   "execution_count": 42,
   "id": "3cdf47fb",
   "metadata": {},
   "outputs": [
    {
     "data": {
      "text/plain": [
       "array([[[ 0, 10, 20, 30, 40],\n",
       "        [ 2, 12, 22, 32, 42],\n",
       "        [ 4, 14, 24, 34, 44],\n",
       "        [ 6, 16, 26, 36, 46],\n",
       "        [ 8, 18, 28, 38, 48]],\n",
       "\n",
       "       [[ 1, 11, 21, 31, 41],\n",
       "        [ 3, 13, 23, 33, 43],\n",
       "        [ 5, 15, 25, 35, 45],\n",
       "        [ 7, 17, 27, 37, 47],\n",
       "        [ 9, 19, 29, 39, 49]]])"
      ]
     },
     "execution_count": 42,
     "metadata": {},
     "output_type": "execute_result"
    }
   ],
   "source": [
    "arr_3d.T"
   ]
  },
  {
   "cell_type": "markdown",
   "id": "12644eb4",
   "metadata": {},
   "source": [
    "## Imp info about 3d transpose"
   ]
  },
  {
   "cell_type": "code",
   "execution_count": 48,
   "id": "f57cc880",
   "metadata": {},
   "outputs": [
    {
     "data": {
      "text/plain": [
       "array([[[ 0,  1,  2],\n",
       "        [12, 13, 14],\n",
       "        [24, 25, 26],\n",
       "        [36, 37, 38],\n",
       "        [48, 49, 50]],\n",
       "\n",
       "       [[ 3,  4,  5],\n",
       "        [15, 16, 17],\n",
       "        [27, 28, 29],\n",
       "        [39, 40, 41],\n",
       "        [51, 52, 53]],\n",
       "\n",
       "       [[ 6,  7,  8],\n",
       "        [18, 19, 20],\n",
       "        [30, 31, 32],\n",
       "        [42, 43, 44],\n",
       "        [54, 55, 56]],\n",
       "\n",
       "       [[ 9, 10, 11],\n",
       "        [21, 22, 23],\n",
       "        [33, 34, 35],\n",
       "        [45, 46, 47],\n",
       "        [57, 58, 59]]])"
      ]
     },
     "execution_count": 48,
     "metadata": {},
     "output_type": "execute_result"
    }
   ],
   "source": [
    "arr_3d.transpose(1,0,2) #transpose method takes a tuple"
   ]
  },
  {
   "cell_type": "markdown",
   "id": "01e80872",
   "metadata": {},
   "source": [
    "## Must read to understand the transpose"
   ]
  },
  {
   "cell_type": "markdown",
   "id": "757852eb",
   "metadata": {},
   "source": [
    "https://stackoverflow.com/questions/32034237/how-does-numpys-transpose-method-permute-the-axes-of-an-array"
   ]
  },
  {
   "cell_type": "code",
   "execution_count": 49,
   "id": "e834e11d",
   "metadata": {},
   "outputs": [
    {
     "data": {
      "text/plain": [
       "array([[[ 0,  1,  2],\n",
       "        [12, 13, 14],\n",
       "        [24, 25, 26],\n",
       "        [36, 37, 38],\n",
       "        [48, 49, 50]],\n",
       "\n",
       "       [[ 3,  4,  5],\n",
       "        [15, 16, 17],\n",
       "        [27, 28, 29],\n",
       "        [39, 40, 41],\n",
       "        [51, 52, 53]],\n",
       "\n",
       "       [[ 6,  7,  8],\n",
       "        [18, 19, 20],\n",
       "        [30, 31, 32],\n",
       "        [42, 43, 44],\n",
       "        [54, 55, 56]],\n",
       "\n",
       "       [[ 9, 10, 11],\n",
       "        [21, 22, 23],\n",
       "        [33, 34, 35],\n",
       "        [45, 46, 47],\n",
       "        [57, 58, 59]]])"
      ]
     },
     "execution_count": 49,
     "metadata": {},
     "output_type": "execute_result"
    }
   ],
   "source": [
    "arr_3d.swapaxes(0,1)"
   ]
  },
  {
   "cell_type": "code",
   "execution_count": 53,
   "id": "00cb1d48",
   "metadata": {},
   "outputs": [
    {
     "data": {
      "text/plain": [
       "True"
      ]
     },
     "execution_count": 53,
     "metadata": {},
     "output_type": "execute_result"
    }
   ],
   "source": [
    "website = 'https://numpy.org/doc/stable/reference/'\n",
    "import webbrowser\n",
    "webbrowser.open_new(website)"
   ]
  }
 ],
 "metadata": {
  "kernelspec": {
   "display_name": "Python 3",
   "language": "python",
   "name": "python3"
  },
  "language_info": {
   "codemirror_mode": {
    "name": "ipython",
    "version": 3
   },
   "file_extension": ".py",
   "mimetype": "text/x-python",
   "name": "python",
   "nbconvert_exporter": "python",
   "pygments_lexer": "ipython3",
   "version": "3.8.8"
  }
 },
 "nbformat": 4,
 "nbformat_minor": 5
}
