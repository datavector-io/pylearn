{
 "cells": [
  {
   "cell_type": "markdown",
   "id": "cf85a797",
   "metadata": {},
   "source": [
    "# Random"
   ]
  },
  {
   "cell_type": "code",
   "execution_count": 1,
   "id": "35ba2bdc",
   "metadata": {},
   "outputs": [],
   "source": [
    "import numpy as np"
   ]
  },
  {
   "cell_type": "markdown",
   "id": "e0c7fa45",
   "metadata": {},
   "source": [
    "## random numbers"
   ]
  },
  {
   "cell_type": "code",
   "execution_count": 2,
   "id": "5679a239",
   "metadata": {},
   "outputs": [
    {
     "data": {
      "text/plain": [
       "35"
      ]
     },
     "execution_count": 2,
     "metadata": {},
     "output_type": "execute_result"
    }
   ],
   "source": [
    "just_a_random_number = np.random.randint(20,100) # a random number between uppr and lower bounds\n",
    "just_a_random_number"
   ]
  },
  {
   "cell_type": "code",
   "execution_count": 3,
   "id": "c0a025d0",
   "metadata": {},
   "outputs": [
    {
     "data": {
      "text/plain": [
       "array([55, 46, 97, 55, 88, 81, 50, 37, 41, 69])"
      ]
     },
     "execution_count": 3,
     "metadata": {},
     "output_type": "execute_result"
    }
   ],
   "source": [
    "many_rand_numbers = np.random.randint(20,100, 10)\n",
    "many_rand_numbers"
   ]
  },
  {
   "cell_type": "code",
   "execution_count": 4,
   "id": "78492481",
   "metadata": {},
   "outputs": [],
   "source": [
    "# If you want seemingly random numbers, do not set the seed\n",
    "# np.random.seed(4) "
   ]
  },
  {
   "cell_type": "code",
   "execution_count": 5,
   "id": "a159c136",
   "metadata": {},
   "outputs": [
    {
     "data": {
      "text/plain": [
       "10"
      ]
     },
     "execution_count": 5,
     "metadata": {},
     "output_type": "execute_result"
    }
   ],
   "source": [
    "#to prevent frequent use of np.random.randnt etc, another technique is to import like this\n",
    "from numpy.random import randint\n",
    "randint(10,20)"
   ]
  },
  {
   "cell_type": "markdown",
   "id": "e5e32112",
   "metadata": {},
   "source": [
    "## random arrays"
   ]
  },
  {
   "cell_type": "code",
   "execution_count": 6,
   "id": "1dcd32a9",
   "metadata": {},
   "outputs": [
    {
     "data": {
      "text/plain": [
       "array([[0.1730882 , 0.38967044, 0.84642103],\n",
       "       [0.70140133, 0.70584195, 0.5677551 ]])"
      ]
     },
     "execution_count": 6,
     "metadata": {},
     "output_type": "execute_result"
    }
   ],
   "source": [
    "# Returns numbers from a random distribution\n",
    "\n",
    "np.random.rand(2, 3) # note here the size is passed as args and not list or tuple"
   ]
  },
  {
   "cell_type": "code",
   "execution_count": 7,
   "id": "a2e67cda",
   "metadata": {},
   "outputs": [
    {
     "data": {
      "text/plain": [
       "array([[ 0.83217581, -0.22398663, -0.07472081],\n",
       "       [-1.3078234 ,  0.19746968,  0.62640622]])"
      ]
     },
     "execution_count": 7,
     "metadata": {},
     "output_type": "execute_result"
    }
   ],
   "source": [
    "np.random.randn(2,3) # returns random sample from standard normal distribution (centrered around 0)"
   ]
  },
  {
   "cell_type": "markdown",
   "id": "fb1bd201",
   "metadata": {},
   "source": [
    "## Statistical methods on array"
   ]
  },
  {
   "cell_type": "code",
   "execution_count": 8,
   "id": "e6ec76bf",
   "metadata": {},
   "outputs": [
    {
     "name": "stdout",
     "output_type": "stream",
     "text": [
      "[[-0.12918072  0.68608695 -0.6383845   1.87384002]\n",
      " [ 0.65533487 -0.35888399  1.16015638  0.80796952]\n",
      " [ 1.24504739  0.81741958 -0.25636287 -0.55336714]\n",
      " [-1.25026614  1.2128527   0.26072812  0.14692233]\n",
      " [-0.35099667 -0.06285367 -0.34383593 -2.02999459]]\n",
      "2.8922316469702416\n",
      "1.8738400240526718\n",
      "3\n",
      "-2.0299945946769427\n",
      "19\n",
      "0.14461158234851207\n",
      "0.9117360039583022\n"
     ]
    },
    {
     "data": {
      "text/plain": [
       "(None, None)"
      ]
     },
     "execution_count": 8,
     "metadata": {},
     "output_type": "execute_result"
    }
   ],
   "source": [
    "arr = np.random.randn(5,4)\n",
    "print(arr)\n",
    "\n",
    "print(arr.sum())\n",
    "print (arr.max()), print(arr.argmax())\n",
    "print(arr.min()), print(arr.argmin())\n",
    "print(arr.mean()), print(arr.std())"
   ]
  },
  {
   "cell_type": "code",
   "execution_count": 9,
   "id": "3cd0c4c4",
   "metadata": {},
   "outputs": [
    {
     "data": {
      "text/plain": [
       "(5.5, 3.452052529534663, 11.916666666666666)"
      ]
     },
     "execution_count": 9,
     "metadata": {},
     "output_type": "execute_result"
    }
   ],
   "source": [
    "arr2 = np.arange(0,12).reshape(4,3) # no mean and std in prior code snippet\n",
    "\n",
    "arr2.mean(), arr2.std(), arr2.var()"
   ]
  },
  {
   "cell_type": "markdown",
   "id": "93a8fb32",
   "metadata": {},
   "source": [
    "## permutation with arranged sequence"
   ]
  },
  {
   "cell_type": "code",
   "execution_count": 10,
   "id": "470bd147",
   "metadata": {},
   "outputs": [
    {
     "name": "stdout",
     "output_type": "stream",
     "text": [
      "[21 28 38 33 47 32 14 13  2 46 26 10 43  6 27 49 25 15  7 18 17 20  1 29\n",
      " 30 23 16 12 39  4  5  8 36 24 44  0 48 40 11 42 35 37 45  3 31 22 41  9\n",
      " 19 34]\n"
     ]
    }
   ],
   "source": [
    "x = np.random.permutation(np.arange(50))\n",
    "print(x)"
   ]
  },
  {
   "cell_type": "markdown",
   "id": "4c2d9537",
   "metadata": {},
   "source": [
    "## Boolean Array"
   ]
  },
  {
   "cell_type": "code",
   "execution_count": 11,
   "id": "a7e55caf",
   "metadata": {},
   "outputs": [
    {
     "name": "stdout",
     "output_type": "stream",
     "text": [
      "True\n",
      "False\n"
     ]
    }
   ],
   "source": [
    "bool_arr = np.array([True, False, True])\n",
    "print(bool_arr.any())\n",
    "print(bool_arr.all())"
   ]
  },
  {
   "cell_type": "code",
   "execution_count": 12,
   "id": "106170d1",
   "metadata": {},
   "outputs": [
    {
     "data": {
      "text/plain": [
       "array(['England', 'Farnce', 'France', 'Germany'], dtype='<U7')"
      ]
     },
     "execution_count": 12,
     "metadata": {},
     "output_type": "execute_result"
    }
   ],
   "source": [
    "country_arr = np.array(['Farnce', 'France', 'Germany', 'Germany', 'England'])\n",
    "np.unique(country_arr)"
   ]
  },
  {
   "cell_type": "markdown",
   "id": "991c4b9e",
   "metadata": {},
   "source": [
    "## Add random seed and random state based config here"
   ]
  },
  {
   "cell_type": "code",
   "execution_count": null,
   "id": "c4760c45",
   "metadata": {},
   "outputs": [],
   "source": []
  }
 ],
 "metadata": {
  "kernelspec": {
   "display_name": "Python 3",
   "language": "python",
   "name": "python3"
  },
  "language_info": {
   "codemirror_mode": {
    "name": "ipython",
    "version": 3
   },
   "file_extension": ".py",
   "mimetype": "text/x-python",
   "name": "python",
   "nbconvert_exporter": "python",
   "pygments_lexer": "ipython3",
   "version": "3.8.8"
  }
 },
 "nbformat": 4,
 "nbformat_minor": 5
}
