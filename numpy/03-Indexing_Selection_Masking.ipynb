{
 "cells": [
  {
   "cell_type": "markdown",
   "id": "ca62ef33",
   "metadata": {},
   "source": [
    "# Indexing, Selection and Masking"
   ]
  },
  {
   "cell_type": "code",
   "execution_count": 5,
   "id": "a70d5841",
   "metadata": {},
   "outputs": [],
   "source": [
    "import numpy as np"
   ]
  },
  {
   "cell_type": "markdown",
   "id": "d0786311",
   "metadata": {},
   "source": [
    "## Indexed acces in 1-D Array"
   ]
  },
  {
   "cell_type": "code",
   "execution_count": 6,
   "id": "c605a988",
   "metadata": {},
   "outputs": [
    {
     "data": {
      "text/plain": [
       "array([0, 1, 2, 3, 4, 5, 6, 7, 8, 9])"
      ]
     },
     "execution_count": 6,
     "metadata": {},
     "output_type": "execute_result"
    }
   ],
   "source": [
    "arr = np.arange(0,10)\n",
    "arr"
   ]
  },
  {
   "cell_type": "code",
   "execution_count": 7,
   "id": "ffdfaa06",
   "metadata": {},
   "outputs": [
    {
     "data": {
      "text/plain": [
       "6"
      ]
     },
     "execution_count": 7,
     "metadata": {},
     "output_type": "execute_result"
    }
   ],
   "source": [
    "arr[6]"
   ]
  },
  {
   "cell_type": "markdown",
   "id": "865184d2",
   "metadata": {},
   "source": [
    "## Sliced array a view. Not a copy. \n",
    "Hence changes are broadcast in both ways"
   ]
  },
  {
   "cell_type": "code",
   "execution_count": 8,
   "id": "cc1b6c57",
   "metadata": {},
   "outputs": [
    {
     "data": {
      "text/plain": [
       "array([1, 2, 3, 4])"
      ]
     },
     "execution_count": 8,
     "metadata": {},
     "output_type": "execute_result"
    }
   ],
   "source": [
    "arr1 = np.arange(0,10)\n",
    "sub_arr = arr[1:5] #sub_arr is a view\n",
    "sub_arr"
   ]
  },
  {
   "cell_type": "code",
   "execution_count": 9,
   "id": "f561c353",
   "metadata": {},
   "outputs": [
    {
     "data": {
      "text/plain": [
       "array([   0,    1,    2, 9999,    4,    5,    6,    7,    8,    9])"
      ]
     },
     "execution_count": 9,
     "metadata": {},
     "output_type": "execute_result"
    }
   ],
   "source": [
    "sub_arr[2] = 9999\n",
    "arr"
   ]
  },
  {
   "cell_type": "code",
   "execution_count": 10,
   "id": "dfd41060",
   "metadata": {},
   "outputs": [
    {
     "name": "stdout",
     "output_type": "stream",
     "text": [
      "[0 1 2 3 4 5 6 7 8 9]\n",
      "[99 99 99 99 99 99 99 99 99 99]\n"
     ]
    }
   ],
   "source": [
    "arr2 = np.arange(0,10) \n",
    "slice_arr = arr2[:] #view\n",
    "print(slice_arr)\n",
    "slice_arr[:] = 99\n",
    "print(slice_arr)"
   ]
  },
  {
   "cell_type": "markdown",
   "id": "0884cc57",
   "metadata": {},
   "source": [
    "## Indexed access in 2D Array"
   ]
  },
  {
   "cell_type": "code",
   "execution_count": 11,
   "id": "6acaae0c",
   "metadata": {},
   "outputs": [
    {
     "data": {
      "text/plain": [
       "array([[ 6,  7,  3,  4],\n",
       "       [14, 17, 15, 10],\n",
       "       [12,  2,  1, 19],\n",
       "       [ 0,  5, 11,  8],\n",
       "       [16, 13,  9, 18]])"
      ]
     },
     "execution_count": 11,
     "metadata": {},
     "output_type": "execute_result"
    }
   ],
   "source": [
    "arr_2d = np.random.permutation(np.arange(0,20)).reshape(5,4)\n",
    "arr_2d"
   ]
  },
  {
   "cell_type": "code",
   "execution_count": 12,
   "id": "f5ccf57f",
   "metadata": {},
   "outputs": [
    {
     "data": {
      "text/plain": [
       "array([6, 7, 3, 4])"
      ]
     },
     "execution_count": 12,
     "metadata": {},
     "output_type": "execute_result"
    }
   ],
   "source": [
    "arr_2d[0]"
   ]
  },
  {
   "cell_type": "code",
   "execution_count": 13,
   "id": "ccde2826",
   "metadata": {},
   "outputs": [
    {
     "data": {
      "text/plain": [
       "3"
      ]
     },
     "execution_count": 13,
     "metadata": {},
     "output_type": "execute_result"
    }
   ],
   "source": [
    "arr_2d[0][2] # double bracket notation"
   ]
  },
  {
   "cell_type": "code",
   "execution_count": 14,
   "id": "ddbb707b",
   "metadata": {},
   "outputs": [
    {
     "data": {
      "text/plain": [
       "3"
      ]
     },
     "execution_count": 14,
     "metadata": {},
     "output_type": "execute_result"
    }
   ],
   "source": [
    "arr_2d[0,2] #single bracket notation"
   ]
  },
  {
   "cell_type": "code",
   "execution_count": 15,
   "id": "89fbc413",
   "metadata": {},
   "outputs": [
    {
     "data": {
      "text/plain": [
       "array([[11, 10,  5, 17],\n",
       "       [ 0, 18,  1, 15],\n",
       "       [19,  8,  6, 16],\n",
       "       [ 7,  4,  2,  9],\n",
       "       [ 3, 13, 12, 14]])"
      ]
     },
     "execution_count": 15,
     "metadata": {},
     "output_type": "execute_result"
    }
   ],
   "source": [
    "arr_2d = np.random.permutation(np.arange(0,20)).reshape(5,4)\n",
    "arr_2d"
   ]
  },
  {
   "cell_type": "code",
   "execution_count": 16,
   "id": "ebb3f0b9",
   "metadata": {},
   "outputs": [
    {
     "data": {
      "text/plain": [
       "array([ 0, 18,  1, 15])"
      ]
     },
     "execution_count": 16,
     "metadata": {},
     "output_type": "execute_result"
    }
   ],
   "source": [
    "#Getting second row\n",
    "arr_2d[1,:]"
   ]
  },
  {
   "cell_type": "code",
   "execution_count": 17,
   "id": "2aab524f",
   "metadata": {},
   "outputs": [
    {
     "ename": "NameError",
     "evalue": "name 'b' is not defined",
     "output_type": "error",
     "traceback": [
      "\u001b[0;31m---------------------------------------------------------------------------\u001b[0m",
      "\u001b[0;31mNameError\u001b[0m                                 Traceback (most recent call last)",
      "\u001b[0;32m<ipython-input-17-5bc4f10d1d80>\u001b[0m in \u001b[0;36m<module>\u001b[0;34m\u001b[0m\n\u001b[1;32m      1\u001b[0m \u001b[0;31m#getting second column\u001b[0m\u001b[0;34m\u001b[0m\u001b[0;34m\u001b[0m\u001b[0;34m\u001b[0m\u001b[0m\n\u001b[0;32m----> 2\u001b[0;31m \u001b[0mb\u001b[0m\u001b[0;34m[\u001b[0m\u001b[0;34m:\u001b[0m\u001b[0;34m,\u001b[0m \u001b[0;36m1\u001b[0m\u001b[0;34m]\u001b[0m\u001b[0;34m\u001b[0m\u001b[0;34m\u001b[0m\u001b[0m\n\u001b[0m",
      "\u001b[0;31mNameError\u001b[0m: name 'b' is not defined"
     ]
    }
   ],
   "source": [
    "#getting second column\n",
    "b[:, 1]"
   ]
  },
  {
   "cell_type": "code",
   "execution_count": null,
   "id": "6d5de6f8",
   "metadata": {},
   "outputs": [],
   "source": [
    "#sub matrix\n",
    "arr_2d[:3,2:]"
   ]
  },
  {
   "cell_type": "code",
   "execution_count": null,
   "id": "0ab68a54",
   "metadata": {},
   "outputs": [],
   "source": [
    "# find the index of a particular value\n",
    "idx = np.argwhere(arr_2d == 5)\n",
    "\n",
    "print(idx)\n",
    "\n",
    "print(idx[0][0])"
   ]
  },
  {
   "cell_type": "markdown",
   "id": "293baf5c",
   "metadata": {},
   "source": [
    "## Masking\n",
    "1. with list or \n",
    "2. conditional with Array \n",
    "NOTE: both produce copy"
   ]
  },
  {
   "cell_type": "code",
   "execution_count": null,
   "id": "c98d8e07",
   "metadata": {},
   "outputs": [],
   "source": [
    "sub_arr2 = arr[[1,3,4]] #input an indexed list of indexes\n",
    "sub_arr2 #sub_arr2 is A COPY"
   ]
  },
  {
   "cell_type": "code",
   "execution_count": null,
   "id": "2c893e09",
   "metadata": {},
   "outputs": [],
   "source": [
    "arr_2d = np.random.permutation(np.arange(0,20)).reshape(5,4)\n",
    "arr_2d"
   ]
  },
  {
   "cell_type": "code",
   "execution_count": null,
   "id": "c4dda20c",
   "metadata": {},
   "outputs": [],
   "source": [
    "arr_bool = arr_2d > 5\n",
    "arr_bool"
   ]
  },
  {
   "cell_type": "code",
   "execution_count": null,
   "id": "9c44cec0",
   "metadata": {},
   "outputs": [],
   "source": [
    "arr_2d[arr_bool] # Note: Loses dimensionality, also this is a copy"
   ]
  },
  {
   "cell_type": "code",
   "execution_count": null,
   "id": "7987fc8a",
   "metadata": {},
   "outputs": [],
   "source": [
    "#one step to do this both\n",
    "arr_2d[arr_2d>5]"
   ]
  },
  {
   "cell_type": "code",
   "execution_count": null,
   "id": "e0a3550a",
   "metadata": {},
   "outputs": [],
   "source": [
    "# & and\n",
    "# | or\n",
    "# ~ not\n",
    "# use former between arrays latter between objects\n",
    "\n",
    "arr_2d[ (arr_2d>5) & (arr_2d < 12)]"
   ]
  },
  {
   "cell_type": "markdown",
   "id": "2ef0d079",
   "metadata": {},
   "source": [
    "## np.where() to retain same dimensionality in masking\n",
    "you are going to need a fill value. In the example below I use 0, but you could also use np.nan"
   ]
  },
  {
   "cell_type": "code",
   "execution_count": null,
   "id": "52bc8207",
   "metadata": {},
   "outputs": [],
   "source": [
    "np.where(arr_2d > 5, arr_2d, 0) # 2nd and 3rd arg are if else for condition"
   ]
  },
  {
   "cell_type": "markdown",
   "id": "bd9f08ec",
   "metadata": {},
   "source": [
    "## Conditional zipping"
   ]
  },
  {
   "cell_type": "code",
   "execution_count": null,
   "id": "6539e9a8",
   "metadata": {},
   "outputs": [],
   "source": [
    "A = np.array([1,2,3,4])\n",
    "B = np.array([100, 200, 300, 400])\n",
    "condition = np.array([True, True, False, False])\n",
    "answer = [A_val if cond else B_val for A_val, B_val, cond in zip(A,B,condition)]\n",
    "answer"
   ]
  },
  {
   "cell_type": "code",
   "execution_count": null,
   "id": "52c3da33",
   "metadata": {},
   "outputs": [],
   "source": []
  }
 ],
 "metadata": {
  "kernelspec": {
   "display_name": "Python 3",
   "language": "python",
   "name": "python3"
  },
  "language_info": {
   "codemirror_mode": {
    "name": "ipython",
    "version": 3
   },
   "file_extension": ".py",
   "mimetype": "text/x-python",
   "name": "python",
   "nbconvert_exporter": "python",
   "pygments_lexer": "ipython3",
   "version": "3.8.8"
  }
 },
 "nbformat": 4,
 "nbformat_minor": 5
}
