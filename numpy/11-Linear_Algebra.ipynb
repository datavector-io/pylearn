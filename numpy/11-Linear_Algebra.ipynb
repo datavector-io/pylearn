{
 "cells": [
  {
   "cell_type": "markdown",
   "id": "b4b1f016",
   "metadata": {},
   "source": [
    "# numpy linear algebra"
   ]
  },
  {
   "cell_type": "code",
   "execution_count": 3,
   "id": "af551f5c",
   "metadata": {},
   "outputs": [],
   "source": [
    "import numpy as np\n",
    "import numpy.linalg as la"
   ]
  },
  {
   "cell_type": "code",
   "execution_count": 4,
   "id": "56d60cc3",
   "metadata": {},
   "outputs": [
    {
     "data": {
      "text/plain": [
       "array([[-4.30072764, -7.22680137,  9.61494902],\n",
       "       [ 2.76432084,  7.70605767, -7.77295832],\n",
       "       [ 4.13549873,  2.51582253, -4.89158268]])"
      ]
     },
     "execution_count": 4,
     "metadata": {},
     "output_type": "execute_result"
    }
   ],
   "source": [
    "la.inv(np.random.rand(3,3))"
   ]
  },
  {
   "cell_type": "code",
   "execution_count": null,
   "id": "a313d301",
   "metadata": {},
   "outputs": [],
   "source": []
  }
 ],
 "metadata": {
  "kernelspec": {
   "display_name": "Python 3",
   "language": "python",
   "name": "python3"
  },
  "language_info": {
   "codemirror_mode": {
    "name": "ipython",
    "version": 3
   },
   "file_extension": ".py",
   "mimetype": "text/x-python",
   "name": "python",
   "nbconvert_exporter": "python",
   "pygments_lexer": "ipython3",
   "version": "3.8.8"
  }
 },
 "nbformat": 4,
 "nbformat_minor": 5
}
